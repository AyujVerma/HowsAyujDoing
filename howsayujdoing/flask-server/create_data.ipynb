{
 "cells": [
  {
   "cell_type": "code",
   "execution_count": 11,
   "metadata": {},
   "outputs": [],
   "source": [
    "import spotipy\n",
    "from spotipy.oauth2 import SpotifyClientCredentials\n",
    "from dotenv import load_dotenv # Loads .env file.\n",
    "import os\n",
    "import time\n",
    "import pandas as pd"
   ]
  },
  {
   "cell_type": "code",
   "execution_count": 12,
   "metadata": {},
   "outputs": [],
   "source": [
    "load_dotenv('auth.env')\n",
    "SPOTIFY_CLIENT_ID = os.getenv('SPOTIFY_CLIENT_ID')\n",
    "SPOTIFY_CLIENT_SECRET = os.getenv('SPOTIFY_CLIENT_SECRET')"
   ]
  },
  {
   "cell_type": "code",
   "execution_count": 13,
   "metadata": {},
   "outputs": [],
   "source": [
    "client_credentials_manager = SpotifyClientCredentials(\n",
    "    client_id = SPOTIFY_CLIENT_ID,\n",
    "    client_secret = SPOTIFY_CLIENT_SECRET)\n",
    "sp = spotipy.Spotify(client_credentials_manager=client_credentials_manager)"
   ]
  },
  {
   "cell_type": "code",
   "execution_count": 14,
   "metadata": {},
   "outputs": [],
   "source": [
    "def get_track_information(playlist_ids):\n",
    "    artists = []\n",
    "    first_artists = []\n",
    "    track_names = []\n",
    "    track_ids = []\n",
    "    \n",
    "    for playlist_id in playlist_ids:\n",
    "        resp = sp.playlist_tracks(playlist_id, fields='items.track.artists.name, items.track.name, items.track.id', limit = 100, offset=0, market=None, additional_types=('track'))\n",
    "        for item in resp['items']:\n",
    "            track = item['track']\n",
    "            id = track['id']\n",
    "            name = track['name']\n",
    "            \n",
    "            all_artists = track['artists']\n",
    "            artists_names = [artist['name'] for artist in all_artists]\n",
    "            \n",
    "            artists.append(artists_names)\n",
    "            first_artists.append(artists_names[0])\n",
    "            track_names.append(name)\n",
    "            track_ids.append(id)\n",
    "    \n",
    "    return artists, first_artists, track_names, track_ids"
   ]
  },
  {
   "cell_type": "code",
   "execution_count": 15,
   "metadata": {},
   "outputs": [],
   "source": [
    "def get_track_audio_features(track_ids):\n",
    "    audio_features_all = []\n",
    "    batch_size = 100\n",
    "    num_batches = (len(track_ids) + batch_size - 1) // batch_size\n",
    "\n",
    "    for i in range(num_batches):\n",
    "        start_idx = i * batch_size\n",
    "        end_idx = min((i + 1) * batch_size, len(track_ids))\n",
    "        track_ids_batch = track_ids[start_idx:end_idx]\n",
    "        \n",
    "        try:\n",
    "            audio_features_batch = sp.audio_features(tracks = track_ids_batch)\n",
    "            audio_features_all += audio_features_batch\n",
    "        except spotipy.SpotifyException as e:\n",
    "            if e.http_status == 429:\n",
    "                retry_after = int(e.headers.get('Retry-After', 10))\n",
    "                print(f\"Encountered rate limit. Waiting for {retry_after} seconds before retrying...\")\n",
    "                time.sleep(retry_after + 1)\n",
    "                audio_features_batch = sp.audio_features(tracks=track_ids_batch)\n",
    "                audio_features_all += audio_features_batch\n",
    "            else:\n",
    "                raise e\n",
    "            \n",
    "    return audio_features_all"
   ]
  },
  {
   "cell_type": "code",
   "execution_count": 16,
   "metadata": {},
   "outputs": [],
   "source": [
    "def make_df(data, audio_features, mood):\n",
    "\n",
    "    info_df = pd.DataFrame(data, columns = ['track_ids', 'track_names', 'artists', 'first_artists'])\n",
    "    features_df = pd.DataFrame(data = audio_features, columns = audio_features[0].keys())\n",
    "\n",
    "    df = pd.concat([info_df, features_df], axis = 1)\n",
    "    df.reset_index(drop = True, inplace = True)\n",
    "\n",
    "    track_ids = data['track_ids']\n",
    "    track_ids_len = len(track_ids)\n",
    "    mood_list = [mood] * track_ids_len\n",
    "    df['mood'] = mood_list\n",
    "    \n",
    "    return df"
   ]
  },
  {
   "cell_type": "code",
   "execution_count": 17,
   "metadata": {},
   "outputs": [],
   "source": [
    "happy_playlist_ids = ['37i9dQZF1DX9XIFQuFvzM4', '37i9dQZF1DX889U0CL85jj', '37i9dQZF1DX8Dc28snyWrn', '37i9dQZF1DWYBO1MoTDhZI', '37i9dQZF1DX4fpCWaHOned', '37i9dQZF1DWSf2RDTDayIx', '37i9dQZF1DXa19sXUAHiO1', '37i9dQZF1DX7KNKjOK0o75', '37i9dQZF1DX2sUQwD7tbmL', '37i9dQZF1DWYzpSJHStHHx', '37i9dQZF1DX1BzILRveYHb', '37i9dQZF1DX6fhMYWIyuww']\n",
    "happy_artists, happy_first_artists, happy_track_names, happy_track_ids = get_track_information(happy_playlist_ids)"
   ]
  },
  {
   "cell_type": "code",
   "execution_count": 18,
   "metadata": {},
   "outputs": [],
   "source": [
    "audio_features_happy = get_track_audio_features(happy_track_ids)"
   ]
  },
  {
   "cell_type": "code",
   "execution_count": 19,
   "metadata": {},
   "outputs": [],
   "source": [
    "happy_data = {\n",
    "    'track_ids': happy_track_ids,\n",
    "    'track_names': happy_track_names,\n",
    "    'first_artists': happy_first_artists,\n",
    "    'artists': happy_artists,\n",
    "}\n",
    "\n",
    "happy_df = make_df(happy_data, audio_features_happy, \"Happy\")\n",
    "happy_df.to_csv('happy_data.csv', index = False)"
   ]
  },
  {
   "cell_type": "code",
   "execution_count": 20,
   "metadata": {},
   "outputs": [],
   "source": [
    "sad_playlist_ids = ['37i9dQZF1DWSqBruwoIXkA', '37i9dQZF1DWW2hj3ZtMbuO', '37i9dQZF1DX7gIoKXt0gmx', '37i9dQZF1DWZrBs4FjpxlE', '37i9dQZF1DX59NCqCqJtoH', '37i9dQZF1DWVV27DiNWxkR', '37i9dQZF1DWVrtsSlLKzro', '37i9dQZF1DWZUAeYvs88zc', '37i9dQZF1DWU4lunzhQdRx', '37i9dQZF1DWV1bxlagjEmb', '37i9dQZF1DX9AnYEthXLyU', '37i9dQZF1DX15JKV0q7shD']\n",
    "sad_artists, sad_first_artists, sad_track_names, sad_track_ids = get_track_information(sad_playlist_ids)"
   ]
  },
  {
   "cell_type": "code",
   "execution_count": 21,
   "metadata": {},
   "outputs": [],
   "source": [
    "audio_features_sad = get_track_audio_features(sad_track_ids)"
   ]
  },
  {
   "cell_type": "code",
   "execution_count": 22,
   "metadata": {},
   "outputs": [],
   "source": [
    "sad_data = {\n",
    "    'track_ids': sad_track_ids,\n",
    "    'track_names': sad_track_names,\n",
    "    'first_artists': sad_first_artists,\n",
    "    'artists': sad_artists,\n",
    "}\n",
    "\n",
    "sad_df = make_df(sad_data, audio_features_sad, \"Sad\")\n",
    "sad_df.to_csv('sad_data.csv', index = False)"
   ]
  },
  {
   "cell_type": "code",
   "execution_count": 23,
   "metadata": {},
   "outputs": [],
   "source": [
    "combined_df = pd.concat([happy_df, sad_df], ignore_index = True)\n",
    "combined_df.to_csv('combined_data.csv', index = False)"
   ]
  },
  {
   "cell_type": "code",
   "execution_count": 24,
   "metadata": {},
   "outputs": [],
   "source": [
    "combined_df.drop_duplicates(subset = 'id', keep = 'first', inplace = True)\n",
    "combined_df.reset_index(drop = True, inplace = True)\n",
    "\n",
    "columns_to_drop = ['analysis_url', 'duration_ms', 'id', 'key', 'liveness', 'speechiness', 'time_signature', 'track_href', 'type', 'uri']\n",
    "cleaned_df = combined_df.drop(columns=columns_to_drop)\n",
    "cleaned_df.to_csv('cleaned_data.csv', index = False)"
   ]
  }
 ],
 "metadata": {
  "kernelspec": {
   "display_name": "base",
   "language": "python",
   "name": "python3"
  },
  "language_info": {
   "codemirror_mode": {
    "name": "ipython",
    "version": 3
   },
   "file_extension": ".py",
   "mimetype": "text/x-python",
   "name": "python",
   "nbconvert_exporter": "python",
   "pygments_lexer": "ipython3",
   "version": "3.11.5"
  }
 },
 "nbformat": 4,
 "nbformat_minor": 2
}
