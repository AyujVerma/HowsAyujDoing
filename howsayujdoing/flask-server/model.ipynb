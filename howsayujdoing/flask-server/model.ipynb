{
 "cells": [
  {
   "cell_type": "code",
   "execution_count": 25,
   "metadata": {},
   "outputs": [],
   "source": [
    "import pandas as pd\n",
    "import time"
   ]
  },
  {
   "cell_type": "code",
   "execution_count": 26,
   "metadata": {},
   "outputs": [
    {
     "name": "stdout",
     "output_type": "stream",
     "text": [
      "DONE HAPPY SET!\n",
      "DONE SAD SET!\n"
     ]
    }
   ],
   "source": [
    "from collect_data import get_unique_track_ids\n",
    "\n",
    "global access_token\n",
    "\n",
    "# Set up playlist IDs\n",
    "happy_playlist_ids = ['37i9dQZF1DX9XIFQuFvzM4', '37i9dQZF1DX889U0CL85jj', '37i9dQZF1DX8Dc28snyWrn', '37i9dQZF1DWYBO1MoTDhZI', '37i9dQZF1DX4fpCWaHOned', '37i9dQZF1DWSf2RDTDayIx', '37i9dQZF1DXa19sXUAHiO1', '37i9dQZF1DX7KNKjOK0o75', '37i9dQZF1DX2sUQwD7tbmL', '37i9dQZF1DWYzpSJHStHHx', '37i9dQZF1DX1BzILRveYHb', '37i9dQZF1DX6fhMYWIyuww']\n",
    "sad_playlist_ids = ['37i9dQZF1DWSqBruwoIXkA', '37i9dQZF1DWW2hj3ZtMbuO', '37i9dQZF1DX7gIoKXt0gmx', '37i9dQZF1DWZrBs4FjpxlE', '37i9dQZF1DX59NCqCqJtoH', '37i9dQZF1DWVV27DiNWxkR', '37i9dQZF1DWVrtsSlLKzro', '37i9dQZF1DWZUAeYvs88zc', '37i9dQZF1DWU4lunzhQdRx', '37i9dQZF1DWV1bxlagjEmb', '37i9dQZF1DX9AnYEthXLyU', '37i9dQZF1DX15JKV0q7shD']\n",
    "\n",
    "# Get unique track IDs\n",
    "happy_unique_ids = get_unique_track_ids(happy_playlist_ids)\n",
    "print(\"DONE HAPPY SET!\")\n",
    "sad_unique_ids = get_unique_track_ids(sad_playlist_ids)\n",
    "print(\"DONE SAD SET!\")"
   ]
  },
  {
   "cell_type": "code",
   "execution_count": 18,
   "metadata": {},
   "outputs": [
    {
     "ename": "KeyError",
     "evalue": "'6GUiIbJ834FcHewby3PwV0'",
     "output_type": "error",
     "traceback": [
      "\u001b[1;31m---------------------------------------------------------------------------\u001b[0m",
      "\u001b[1;31mKeyError\u001b[0m                                  Traceback (most recent call last)",
      "Cell \u001b[1;32mIn[18], line 9\u001b[0m\n\u001b[0;32m      7\u001b[0m     track_features \u001b[38;5;241m=\u001b[39m get_song_features(track_id)\n\u001b[0;32m      8\u001b[0m     time\u001b[38;5;241m.\u001b[39msleep(\u001b[38;5;241m1.0\u001b[39m)\n\u001b[1;32m----> 9\u001b[0m     all_tracks_data[track_id][\u001b[38;5;124m\"\u001b[39m\u001b[38;5;124mfeatures\u001b[39m\u001b[38;5;124m\"\u001b[39m] \u001b[38;5;241m=\u001b[39m track_features\n\u001b[0;32m     10\u001b[0m     all_tracks_data[track_id][\u001b[38;5;124m\"\u001b[39m\u001b[38;5;124mmood\u001b[39m\u001b[38;5;124m\"\u001b[39m] \u001b[38;5;241m=\u001b[39m \u001b[38;5;124m\"\u001b[39m\u001b[38;5;124mhappy\u001b[39m\u001b[38;5;124m\"\u001b[39m\n\u001b[0;32m     11\u001b[0m \u001b[38;5;28mprint\u001b[39m(\u001b[38;5;124m\"\u001b[39m\u001b[38;5;124mDONE HAPPY!\u001b[39m\u001b[38;5;124m\"\u001b[39m)\n",
      "\u001b[1;31mKeyError\u001b[0m: '6GUiIbJ834FcHewby3PwV0'"
     ]
    }
   ],
   "source": [
    "from collect_data import get_song_features\n",
    "# Initialize dictionary to store all track data\n",
    "global all_tracks_data\n",
    "\n",
    "# Fetch data for happy tracks\n",
    "for track_id in happy_unique_ids:\n",
    "    track_features = get_song_features(track_id)\n",
    "    time.sleep(1.0)\n",
    "    all_tracks_data[track_id][\"features\"] = track_features\n",
    "    all_tracks_data[track_id][\"mood\"] = \"happy\"\n",
    "print(\"DONE HAPPY!\")\n",
    "\n",
    "# Create data frame and then add rows?"
   ]
  },
  {
   "cell_type": "code",
   "execution_count": null,
   "metadata": {},
   "outputs": [],
   "source": [
    "# Fetch data for sad tracks\n",
    "for track_id in sad_unique_ids:\n",
    "    track_features = get_song_features(track_id)\n",
    "    time.sleep(0.5)\n",
    "    track_title = get_title(track_id)\n",
    "    all_tracks_data[track_id] = {\n",
    "        \"title\": track_title,\n",
    "        \"features\": track_features,\n",
    "        \"mood\": \"sad\"\n",
    "    }\n",
    "print(\"DONE SAD!\")"
   ]
  }
 ],
 "metadata": {
  "kernelspec": {
   "display_name": "base",
   "language": "python",
   "name": "python3"
  },
  "language_info": {
   "codemirror_mode": {
    "name": "ipython",
    "version": 3
   },
   "file_extension": ".py",
   "mimetype": "text/x-python",
   "name": "python",
   "nbconvert_exporter": "python",
   "pygments_lexer": "ipython3",
   "version": "3.11.5"
  }
 },
 "nbformat": 4,
 "nbformat_minor": 2
}
