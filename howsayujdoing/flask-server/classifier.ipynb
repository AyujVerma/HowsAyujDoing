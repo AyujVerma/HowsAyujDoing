{
 "cells": [
  {
   "cell_type": "code",
   "execution_count": null,
   "metadata": {},
   "outputs": [],
   "source": [
    "import pandas as pd\n",
    "import matplotlib.pyplot as plt"
   ]
  },
  {
   "cell_type": "code",
   "execution_count": null,
   "metadata": {},
   "outputs": [],
   "source": [
    "df = pd.read_csv('cleaned_data.csv')\n",
    "df.head()"
   ]
  },
  {
   "cell_type": "code",
   "execution_count": null,
   "metadata": {},
   "outputs": [],
   "source": [
    "labels = df['mood'].copy()\n",
    "\n",
    "columns_to_drop = ['track_ids', 'track_names', 'artists', 'first_artists', 'mood', 'instrumentalness']\n",
    "cleaned_df = df.drop(columns=columns_to_drop)\n",
    "\n",
    "cleaned_df.head()"
   ]
  },
  {
   "cell_type": "code",
   "execution_count": null,
   "metadata": {},
   "outputs": [],
   "source": [
    "correlation_matrix = cleaned_df.corr()\n",
    "print(correlation_matrix)"
   ]
  },
  {
   "cell_type": "code",
   "execution_count": null,
   "metadata": {},
   "outputs": [],
   "source": [
    "from sklearn.tree import DecisionTreeClassifier\n",
    "from sklearn.metrics import accuracy_score\n",
    "from sklearn.model_selection import GridSearchCV\n",
    "from sklearn.model_selection import cross_val_predict\n",
    "from sklearn.metrics import classification_report\n",
    "from sklearn.metrics import confusion_matrix\n",
    "\n",
    "clf = DecisionTreeClassifier()\n",
    "params = {\"max_depth\": [4, 6, 8],\n",
    "          \"max_features\": [4, 6, 8]}\n",
    "grid_search = GridSearchCV(clf, params, cv = 5, scoring = 'accuracy', n_jobs = -1)\n",
    "y_pred = cross_val_predict(grid_search, cleaned_df, labels, cv = 5)\n",
    "\n",
    "accuracy = accuracy_score(labels, y_pred)\n",
    "print(\"Accuracy: \", accuracy)\n",
    "print(\"Classification Report:\")\n",
    "print(classification_report(labels, y_pred))\n",
    "\n",
    "conf_matrix = confusion_matrix(labels, y_pred)\n",
    "print(\"Confusion Matrix:\")\n",
    "print(conf_matrix)"
   ]
  },
  {
   "cell_type": "code",
   "execution_count": null,
   "metadata": {},
   "outputs": [],
   "source": [
    "from sklearn.preprocessing import StandardScaler\n",
    "from sklearn.decomposition import PCA\n",
    "from sklearn.neighbors import KNeighborsClassifier\n",
    "from sklearn.pipeline import Pipeline\n",
    "\n",
    "scaler = StandardScaler()\n",
    "pca = PCA()\n",
    "knn = KNeighborsClassifier(n_neighbors = 7)\n",
    "pipeline = Pipeline([\n",
    "    ('scaler', scaler),\n",
    "    ('pca', pca),\n",
    "    ('knn', knn)\n",
    "])\n",
    "\n",
    "param_grid = {\n",
    "    'pca__n_components': list(range(2, 8)),\n",
    "    'knn__n_neighbors': list(range(2, 5))\n",
    "}\n",
    "\n",
    "grid_search = GridSearchCV(pipeline, param_grid, cv = 5, n_jobs = -1)\n",
    "y_pred = cross_val_predict(grid_search, cleaned_df, labels, cv = 5)\n",
    "\n",
    "accuracy = accuracy_score(labels, y_pred)\n",
    "print(\"Accuracy:\", accuracy)\n",
    "print(\"Classification Report:\")\n",
    "print(classification_report(labels, y_pred))\n",
    "\n",
    "conf_matrix = confusion_matrix(labels, y_pred)\n",
    "print(\"Confusion Matrix:\")\n",
    "print(conf_matrix)"
   ]
  },
  {
   "cell_type": "code",
   "execution_count": null,
   "metadata": {},
   "outputs": [],
   "source": [
    "from sklearn.neural_network import MLPClassifier\n",
    "from sklearn.pipeline import Pipeline\n",
    "from sklearn.model_selection import GridSearchCV\n",
    "from sklearn.preprocessing import StandardScaler\n",
    "import warnings\n",
    "\n",
    "# Define the pipeline\n",
    "pipeline_mlp = Pipeline([\n",
    "    ('scaler', StandardScaler()),\n",
    "    ('mlp', MLPClassifier(max_iter = 20, solver = 'adam', random_state = 8))\n",
    "])\n",
    "\n",
    "# Define the parameter grid for grid search\n",
    "param_grid_mlp = {\n",
    "    'mlp__hidden_layer_sizes': [5, 10, 15, 20],\n",
    "    'mlp__activation': ['logistic', 'tanh', 'relu']\n",
    "}\n",
    "\n",
    "# Perform grid search\n",
    "grid_search_mlp = GridSearchCV(pipeline_mlp, param_grid_mlp, cv = 5, n_jobs = -1)\n",
    "with warnings.catch_warnings():\n",
    "    warnings.simplefilter(\"ignore\")\n",
    "    y_pred = cross_val_predict(grid_search_mlp, cleaned_df, labels, cv = 5)\n",
    "\n",
    "accuracy = accuracy_score(labels, y_pred)\n",
    "print(\"Accuracy:\", accuracy)\n",
    "print(\"Classification Report:\")\n",
    "print(classification_report(labels, y_pred))\n",
    "\n",
    "conf_matrix = confusion_matrix(labels, y_pred)\n",
    "print(\"Confusion Matrix:\")\n",
    "print(conf_matrix)"
   ]
  },
  {
   "cell_type": "code",
   "execution_count": null,
   "metadata": {},
   "outputs": [],
   "source": [
    "from sklearn.ensemble import RandomForestClassifier\n",
    "\n",
    "pipeline_rf = Pipeline([\n",
    "    ('scaler', StandardScaler()),\n",
    "    ('rf', RandomForestClassifier())\n",
    "])\n",
    "\n",
    "param_grid_rf = {\n",
    "    'rf__max_depth': list(range(2, 8)),\n",
    "    'rf__max_features': [\"sqrt\", \"log2\"]\n",
    "}\n",
    "\n",
    "grid_search_rf = GridSearchCV(pipeline_rf, param_grid_rf, cv=5, n_jobs=-1)\n",
    "with warnings.catch_warnings():\n",
    "    warnings.simplefilter(\"ignore\")\n",
    "    y_pred_rf = cross_val_predict(grid_search_rf, cleaned_df, labels, cv=5)\n",
    "\n",
    "accuracy_rf = accuracy_score(labels, y_pred_rf)\n",
    "print(\"Accuracy:\", accuracy_rf)\n",
    "print(\"Classification Report:\")\n",
    "print(classification_report(labels, y_pred_rf))\n",
    "\n",
    "print(\"Confusion Matrix:\")\n",
    "print(confusion_matrix(labels, y_pred_rf))\n"
   ]
  },
  {
   "cell_type": "code",
   "execution_count": null,
   "metadata": {},
   "outputs": [],
   "source": [
    "from sklearn.ensemble import AdaBoostClassifier\n",
    "from sklearn.model_selection import GridSearchCV\n",
    "from sklearn.metrics import accuracy_score, classification_report, confusion_matrix\n",
    "from sklearn.model_selection import cross_val_predict\n",
    "\n",
    "clf = AdaBoostClassifier()\n",
    "params = {\n",
    "    'n_estimators': [50, 100, 150, 200]\n",
    "}\n",
    "grid_search = GridSearchCV(clf, params, cv = 5, scoring = 'accuracy')\n",
    "y_pred = cross_val_predict(grid_search, cleaned_df, labels, cv = 5)\n",
    "\n",
    "accuracy = accuracy_score(labels, y_pred)\n",
    "print(\"Accuracy: \", accuracy)\n",
    "print(\"Classification Report:\")\n",
    "print(classification_report(labels, y_pred))\n",
    "\n",
    "conf_matrix = confusion_matrix(labels, y_pred)\n",
    "print(\"Confusion Matrix:\")\n",
    "print(conf_matrix)"
   ]
  },
  {
   "cell_type": "code",
   "execution_count": null,
   "metadata": {},
   "outputs": [],
   "source": [
    "import pickle\n",
    "\n",
    "scaler = StandardScaler()\n",
    "scaler.fit(cleaned_df) # Fit the StandardScaler with feature names to get rid of warning\n",
    "pipeline_mlp = Pipeline([\n",
    "    ('scaler', scaler),\n",
    "    ('mlp', MLPClassifier(max_iter=20, solver='adam', random_state=8))\n",
    "])\n",
    "\n",
    "param_grid_mlp = {\n",
    "    'mlp__hidden_layer_sizes': [5, 10, 15, 20],\n",
    "    'mlp__activation': ['logistic', 'tanh', 'relu']\n",
    "}\n",
    "\n",
    "grid_search_mlp = GridSearchCV(pipeline_mlp, param_grid_mlp, cv=5, n_jobs=-1)\n",
    "\n",
    "with warnings.catch_warnings():\n",
    "    warnings.simplefilter(\"ignore\")\n",
    "    mlp_model = grid_search_mlp.fit(cleaned_df.values, labels)\n",
    "\n",
    "filename = 'finalized_model.sav'\n",
    "pickle.dump(mlp_model, open(filename, 'wb'))\n"
   ]
  },
  {
   "cell_type": "code",
   "execution_count": null,
   "metadata": {},
   "outputs": [],
   "source": [
    "import os\n",
    "import sys\n",
    "print(os.path.join(sys.prefix, 'Scripts'))"
   ]
  }
 ],
 "metadata": {
  "kernelspec": {
   "display_name": "base",
   "language": "python",
   "name": "python3"
  },
  "language_info": {
   "codemirror_mode": {
    "name": "ipython",
    "version": 3
   },
   "file_extension": ".py",
   "mimetype": "text/x-python",
   "name": "python",
   "nbconvert_exporter": "python",
   "pygments_lexer": "ipython3",
   "version": "3.11.5"
  }
 },
 "nbformat": 4,
 "nbformat_minor": 2
}
